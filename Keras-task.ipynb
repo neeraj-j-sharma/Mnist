{
 "cells": [
  {
   "cell_type": "markdown",
   "metadata": {},
   "source": [
    "# Getting deeper with Keras\n",
    "* Tensorflow is a powerful and flexible tool, but coding large neural architectures with it is tedious.\n",
    "* There are plenty of deep learning toolkits that work on top of it like Slim, TFLearn, Sonnet, Keras.\n",
    "* Choice is matter of taste and particular task\n",
    "* We'll be using Keras"
   ]
  },
  {
   "cell_type": "code",
   "execution_count": null,
   "metadata": {},
   "outputs": [
    {
     "name": "stderr",
     "output_type": "stream",
     "text": [
      "c:\\users\\abc\\anaconda3\\lib\\site-packages\\h5py\\__init__.py:36: FutureWarning: Conversion of the second argument of issubdtype from `float` to `np.floating` is deprecated. In future, it will be treated as `np.float64 == np.dtype(float).type`.\n",
      "  from ._conv import register_converters as _register_converters\n",
      "Using TensorFlow backend.\n"
     ]
    }
   ],
   "source": [
    "import numpy as np\n",
    "from preprocessed_mnist import load_dataset\n",
    "import keras\n",
    "X_train, y_train, X_val, y_val, X_test, y_test = load_dataset()\n",
    "y_train,y_val,y_test = map(keras.utils.np_utils.to_categorical,[y_train,y_val,y_test])"
   ]
  },
  {
   "cell_type": "code",
   "execution_count": null,
   "metadata": {
    "scrolled": true
   },
   "outputs": [],
   "source": [
    "import matplotlib.pyplot as plt\n",
    "%matplotlib inline\n",
    "plt.imshow(X_train[0]);"
   ]
  },
  {
   "cell_type": "markdown",
   "metadata": {},
   "source": [
    "## keras_Work"
   ]
  },
  {
   "cell_type": "code",
   "execution_count": 5,
   "metadata": {
    "collapsed": true
   },
   "outputs": [],
   "source": [
    "import tensorflow as tf\n",
    "s = tf.InteractiveSession()"
   ]
  },
  {
   "cell_type": "code",
   "execution_count": 101,
   "metadata": {
    "collapsed": true
   },
   "outputs": [],
   "source": [
    "import keras\n",
    "from keras.models import Sequential\n",
    "import keras.layers as ll\n",
    "\n",
    "model = Sequential(name=\"mlp\")\n",
    "\n",
    "model.add(ll.InputLayer([28, 28]))\n",
    "\n",
    "model.add(ll.Flatten())\n",
    "\n",
    "# network body\n",
    "model.add(ll.Dense(128))\n",
    "model.add(ll.Dropout(0.3))\n",
    "model.add(ll.Activation('relu'))\n",
    "model.add(ll.Dense(64,kernel_regularizer=keras.regularizers.l2(0.01)))\n",
    "model.add(ll.Activation('relu'))\n",
    "\n",
    "model.add(ll.Dense(64))\n",
    "\n",
    "model.add(ll.Activation('linear'))\n",
    "\n",
    "# output layer: 10 neurons for each class with softmax\n",
    "model.add(ll.Dense(10, activation='softmax'))\n",
    "\n",
    "# categorical_crossentropy is your good old crossentropy\n",
    "# but applied for one-hot-encoded vectors\n",
    "model.compile(\"adam\", \"categorical_crossentropy\", metrics=[\"accuracy\"])"
   ]
  },
  {
   "cell_type": "code",
   "execution_count": 109,
   "metadata": {},
   "outputs": [
    {
     "name": "stdout",
     "output_type": "stream",
     "text": [
      "_________________________________________________________________\n",
      "Layer (type)                 Output Shape              Param #   \n",
      "=================================================================\n",
      "input_26 (InputLayer)        (None, 28, 28)            0         \n",
      "_________________________________________________________________\n",
      "flatten_26 (Flatten)         (None, 784)               0         \n",
      "_________________________________________________________________\n",
      "dense_88 (Dense)             (None, 128)               100480    \n",
      "_________________________________________________________________\n",
      "dropout_10 (Dropout)         (None, 128)               0         \n",
      "_________________________________________________________________\n",
      "activation_64 (Activation)   (None, 128)               0         \n",
      "_________________________________________________________________\n",
      "dense_89 (Dense)             (None, 64)                8256      \n",
      "_________________________________________________________________\n",
      "activation_65 (Activation)   (None, 64)                0         \n",
      "_________________________________________________________________\n",
      "dense_90 (Dense)             (None, 64)                4160      \n",
      "_________________________________________________________________\n",
      "activation_66 (Activation)   (None, 64)                0         \n",
      "_________________________________________________________________\n",
      "dense_91 (Dense)             (None, 10)                650       \n",
      "=================================================================\n",
      "Total params: 113,546\n",
      "Trainable params: 113,546\n",
      "Non-trainable params: 0\n",
      "_________________________________________________________________\n"
     ]
    }
   ],
   "source": [
    "model.summary()"
   ]
  },
  {
   "cell_type": "markdown",
   "metadata": {},
   "source": [
    "### Model interface\n",
    "\n",
    "Keras models follow __Scikit-learn__'s interface of fit/predict with some notable extensions."
   ]
  },
  {
   "cell_type": "code",
   "execution_count": 102,
   "metadata": {},
   "outputs": [
    {
     "name": "stdout",
     "output_type": "stream",
     "text": [
      "Train on 50000 samples, validate on 10000 samples\n",
      "Epoch 1/10\n",
      "50000/50000 [==============================] - 12s - loss: 0.5224 - acc: 0.8977 - val_loss: 0.2277 - val_acc: 0.9540\n",
      "Epoch 2/10\n",
      "50000/50000 [==============================] - 12s - loss: 0.2416 - acc: 0.9427 - val_loss: 0.1645 - val_acc: 0.9645\n",
      "Epoch 3/10\n",
      "50000/50000 [==============================] - 11s - loss: 0.1975 - acc: 0.9528 - val_loss: 0.1471 - val_acc: 0.9688\n",
      "Epoch 4/10\n",
      "50000/50000 [==============================] - 11s - loss: 0.1755 - acc: 0.9588 - val_loss: 0.1362 - val_acc: 0.9716\n",
      "Epoch 5/10\n",
      "50000/50000 [==============================] - 11s - loss: 0.1634 - acc: 0.9606 - val_loss: 0.1330 - val_acc: 0.9722\n",
      "Epoch 6/10\n",
      "50000/50000 [==============================] - 11s - loss: 0.1486 - acc: 0.9649 - val_loss: 0.1250 - val_acc: 0.9748\n",
      "Epoch 7/10\n",
      "50000/50000 [==============================] - 11s - loss: 0.1399 - acc: 0.9672 - val_loss: 0.1199 - val_acc: 0.9749\n",
      "Epoch 8/10\n",
      "50000/50000 [==============================] - 11s - loss: 0.1330 - acc: 0.9680 - val_loss: 0.1211 - val_acc: 0.9743\n",
      "Epoch 9/10\n",
      "50000/50000 [==============================] - 16s - loss: 0.1261 - acc: 0.9703 - val_loss: 0.1167 - val_acc: 0.9762\n",
      "Epoch 10/10\n",
      "50000/50000 [==============================] - 15s - loss: 0.1235 - acc: 0.9711 - val_loss: 0.1112 - val_acc: 0.9762\n"
     ]
    }
   ],
   "source": [
    "# fit(X,y) ships with a neat automatic logging.\n",
    "#          Highly customizable under the hood.\n",
    "model.fit(X_train, y_train,\n",
    "          validation_data=(X_val, y_val), epochs=10);"
   ]
  },
  {
   "cell_type": "code",
   "execution_count": 88,
   "metadata": {},
   "outputs": [
    {
     "name": "stdout",
     "output_type": "stream",
     "text": [
      "2/2 [==============================] - 0s\n"
     ]
    },
    {
     "data": {
      "text/plain": [
       "array([[  1.48418517e-11,   8.21003070e-08,   2.23255014e-07,\n",
       "          9.99390602e-01,   1.60970933e-12,   6.08864939e-04,\n",
       "          8.81056339e-12,   6.33982893e-08,   4.34920935e-08,\n",
       "          2.25586234e-08],\n",
       "       [  1.84314842e-07,   6.65825269e-07,   2.00617742e-05,\n",
       "          3.62360966e-03,   1.07671347e-08,   9.32510011e-06,\n",
       "          3.82295468e-07,   1.55349721e-06,   9.96338844e-01,\n",
       "          5.31338810e-06]], dtype=float32)"
      ]
     },
     "execution_count": 88,
     "metadata": {},
     "output_type": "execute_result"
    }
   ],
   "source": [
    "# estimate probabilities P(y|x)\n",
    "model.predict_proba(X_val[:2])"
   ]
  },
  {
   "cell_type": "code",
   "execution_count": 37,
   "metadata": {
    "collapsed": true
   },
   "outputs": [],
   "source": [
    "# Save trained weights\n",
    "model.save(\"weights.h5\")"
   ]
  },
  {
   "cell_type": "code",
   "execution_count": 103,
   "metadata": {},
   "outputs": [
    {
     "name": "stdout",
     "output_type": "stream",
     "text": [
      " 9856/10000 [============================>.] - ETA: 0s\n",
      "Loss, Accuracy =  [0.10344375069141389, 0.9768]\n"
     ]
    }
   ],
   "source": [
    "print(\"\\nLoss, Accuracy = \", model.evaluate(X_test, y_test))"
   ]
  },
  {
   "cell_type": "markdown",
   "metadata": {},
   "source": [
    "\n",
    "So far our model is staggeringly inefficient. There is something wring with it. Guess, what?"
   ]
  },
  {
   "cell_type": "code",
   "execution_count": 104,
   "metadata": {},
   "outputs": [
    {
     "name": "stdout",
     "output_type": "stream",
     "text": [
      " 9888/10000 [============================>.] - ETA: 0s\n",
      "Test accuracy: 97.68 %\n",
      "Great job!\n"
     ]
    }
   ],
   "source": [
    "# Test score...\n",
    "test_predictions = model.predict_proba(X_test).argmax(axis=-1)\n",
    "test_answers = y_test.argmax(axis=-1)\n",
    "\n",
    "test_accuracy = np.mean(test_predictions==test_answers)\n",
    "\n",
    "print(\"\\nTest accuracy: {} %\".format(test_accuracy*100))\n",
    "\n",
    "assert test_accuracy>=0.92,\"Logistic regression can do better!\"\n",
    "assert test_accuracy>=0.975,\"Your network can do better!\"\n",
    "print(\"Great job!\")"
   ]
  }
 ],
 "metadata": {
  "kernelspec": {
   "display_name": "Python 3",
   "language": "python",
   "name": "python3"
  },
  "language_info": {
   "codemirror_mode": {
    "name": "ipython",
    "version": 3
   },
   "file_extension": ".py",
   "mimetype": "text/x-python",
   "name": "python",
   "nbconvert_exporter": "python",
   "pygments_lexer": "ipython3",
   "version": "3.6.4"
  },
  "toc": {
   "colors": {
    "hover_highlight": "#DAA520",
    "navigate_num": "#000000",
    "navigate_text": "#333333",
    "running_highlight": "#FF0000",
    "selected_highlight": "#FFD700",
    "sidebar_border": "#EEEEEE",
    "wrapper_background": "#FFFFFF"
   },
   "moveMenuLeft": true,
   "nav_menu": {
    "height": "120px",
    "width": "252px"
   },
   "navigate_menu": true,
   "number_sections": true,
   "sideBar": true,
   "threshold": 4,
   "toc_cell": false,
   "toc_section_display": "block",
   "toc_window_display": false,
   "widenNotebook": false
  }
 },
 "nbformat": 4,
 "nbformat_minor": 1
}
